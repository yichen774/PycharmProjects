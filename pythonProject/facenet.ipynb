{
 "cells": [
  {
   "cell_type": "code",
   "execution_count": 1,
   "id": "e2d633e9",
   "metadata": {},
   "outputs": [
    {
     "name": "stdout",
     "output_type": "stream",
     "text": [
      "Requirement already satisfied: Opencv-python in c:\\users\\gf65\\anaconda3\\lib\\site-packages (4.6.0.66)\n",
      "Requirement already satisfied: numpy>=1.19.3 in c:\\users\\gf65\\anaconda3\\lib\\site-packages (from Opencv-python) (1.21.5)\n"
     ]
    }
   ],
   "source": [
    "!pip install Opencv-python"
   ]
  },
  {
   "cell_type": "code",
   "execution_count": 2,
   "id": "ffd85204",
   "metadata": {},
   "outputs": [
    {
     "data": {
      "text/plain": [
       "-1"
      ]
     },
     "execution_count": 2,
     "metadata": {},
     "output_type": "execute_result"
    }
   ],
   "source": [
    "import cv2\n",
    "\n",
    "img = cv2.imread('lewis-hamilton-mercedes-1.jpg')\n",
    "\n",
    "img = cv2.resize(img, (0,0), fx=2, fy =2)\n",
    "\n",
    "cv2.imshow('Lewis geting in there', img)\n",
    "\n",
    "cv2.waitKey(0)\n"
   ]
  },
  {
   "cell_type": "code",
   "execution_count": 3,
   "id": "b993e44a",
   "metadata": {},
   "outputs": [
    {
     "data": {
      "text/plain": [
       "-1"
      ]
     },
     "execution_count": 3,
     "metadata": {},
     "output_type": "execute_result"
    }
   ],
   "source": [
    "#顯示影片第一幀\n",
    "import cv2\n",
    "\n",
    "cap = cv2.VideoCapture('videoplayback.mp4')\n",
    "\n",
    "ret, frame = cap.read()\n",
    "#ret = 是否有取得下一幀(布林值) frame = 下一張圖片\n",
    "\n",
    "if ret:\n",
    "    cv2.imshow('video',frame)\n",
    "    \n",
    "    \n"
   ]
  },
  {
   "cell_type": "code",
   "execution_count": 5,
   "id": "c3c9e09c",
   "metadata": {},
   "outputs": [],
   "source": [
    "import cv2\n",
    "\n",
    "cap = cv2.VideoCapture('videoplayback.mp4')\n",
    "\n",
    "while True:\n",
    "    ret, frame = cap.read()\n",
    "    if ret:\n",
    "        cv2.imshow('sean',frame)\n",
    "        frame = cv2.resize(frame, (0,0), fx = 0.8, fy=0.8)\n",
    "    else:\n",
    "        break\n",
    "    cv2.waitKey(10) \n",
    "        \n",
    "        "
   ]
  },
  {
   "cell_type": "code",
   "execution_count": 1,
   "id": "b3b0059c",
   "metadata": {},
   "outputs": [],
   "source": [
    "import cv2\n",
    "\n",
    "cap = cv2.VideoCapture(0)\n",
    "\n",
    "while True:\n",
    "    ret, frame = cap.read()\n",
    "    if ret:\n",
    "        cv2.imshow('sean',frame)\n",
    "    else:\n",
    "        break\n",
    "    if cv2.waitKey(10) == ord('q'):\n",
    "        break\n",
    "        "
   ]
  },
  {
   "cell_type": "code",
   "execution_count": 5,
   "id": "2792c7a2",
   "metadata": {},
   "outputs": [
    {
     "name": "stdout",
     "output_type": "stream",
     "text": [
      "type[array([[[255, 255, 255],\n",
      "        [255, 255, 255],\n",
      "        [255, 255, 255],\n",
      "        ...,\n",
      "        [255, 255, 255],\n",
      "        [255, 255, 255],\n",
      "        [255, 255, 255]],\n",
      "\n",
      "       [[255, 255, 255],\n",
      "        [255, 255, 255],\n",
      "        [255, 255, 255],\n",
      "        ...,\n",
      "        [255, 255, 255],\n",
      "        [255, 255, 255],\n",
      "        [255, 255, 255]],\n",
      "\n",
      "       [[255, 255, 255],\n",
      "        [255, 255, 255],\n",
      "        [255, 255, 255],\n",
      "        ...,\n",
      "        [255, 255, 255],\n",
      "        [255, 255, 255],\n",
      "        [255, 255, 255]],\n",
      "\n",
      "       ...,\n",
      "\n",
      "       [[255, 255, 255],\n",
      "        [255, 255, 255],\n",
      "        [255, 255, 255],\n",
      "        ...,\n",
      "        [255, 255, 255],\n",
      "        [255, 255, 255],\n",
      "        [255, 255, 255]],\n",
      "\n",
      "       [[255, 255, 255],\n",
      "        [255, 255, 255],\n",
      "        [255, 255, 255],\n",
      "        ...,\n",
      "        [255, 255, 255],\n",
      "        [255, 255, 255],\n",
      "        [255, 255, 255]],\n",
      "\n",
      "       [[255, 255, 255],\n",
      "        [255, 255, 255],\n",
      "        [255, 255, 255],\n",
      "        ...,\n",
      "        [255, 255, 255],\n",
      "        [255, 255, 255],\n",
      "        [255, 255, 255]]], dtype=uint8)]\n"
     ]
    }
   ],
   "source": [
    "import cv2\n",
    "\n",
    "img = cv2.imread('lewis-hamilton-mercedes-1.jpg')\n",
    "\n",
    "print(type[img])"
   ]
  },
  {
   "cell_type": "code",
   "execution_count": 3,
   "id": "30c2634b",
   "metadata": {},
   "outputs": [
    {
     "name": "stdout",
     "output_type": "stream",
     "text": [
      "(533, 800, 3)\n"
     ]
    }
   ],
   "source": [
    "import cv2\n",
    "\n",
    "img = cv2.imread('lewis-hamilton-mercedes-1.jpg')\n",
    "\n",
    "print(img.shape)\n",
    "'''\n",
    "[\n",
    "    [[R,G,B],[],[]...800]\n",
    "    []\n",
    "    []\n",
    "    ..533\n",
    "]\n",
    "'''\n"
   ]
  },
  {
   "cell_type": "code",
   "execution_count": 9,
   "id": "0bd8e568",
   "metadata": {},
   "outputs": [
    {
     "data": {
      "text/plain": [
       "-1"
      ]
     },
     "execution_count": 9,
     "metadata": {},
     "output_type": "execute_result"
    }
   ],
   "source": [
    "import cv2\n",
    "import numpy as np\n",
    "import random\n",
    "#np.empty創造空的陣列\n",
    "#uint8 - uint正整數 8-8bits\n",
    "img = np.empty((300,300,3), np.uint8)\n",
    "\n",
    "for row in range(300):\n",
    "    for col in range(300):\n",
    "        img[row][col] = [random.randint(0,255),random.randint(0,255),random.randint(0,255)]\n",
    "        \n",
    "cv2.imshow('img',img)\n",
    "cv2.waitKey(0)"
   ]
  },
  {
   "cell_type": "code",
   "execution_count": 10,
   "id": "fbc5dbb1",
   "metadata": {},
   "outputs": [
    {
     "data": {
      "text/plain": [
       "-1"
      ]
     },
     "execution_count": 10,
     "metadata": {},
     "output_type": "execute_result"
    }
   ],
   "source": [
    "import cv2\n",
    "import numpy as np\n",
    "import random\n",
    "#np.empty創造空的陣列\n",
    "#uint8 - uint正整數 8-8bits\n",
    "# img = np.empty((300,300,3), np.uint8)\n",
    "\n",
    "# for row in range(300):\n",
    "#     for col in range(300):\n",
    "#         img[row][col] = [random.randint(0,255),random.randint(0,255),random.randint(0,255)]\n",
    "\n",
    "newImg = img[:150, 200:400]\n",
    "cv2.imshow('img',img)\n",
    "cv2.imshow('newimg',newImg)\n",
    "cv2.waitKey(0)"
   ]
  },
  {
   "cell_type": "code",
   "execution_count": 3,
   "id": "a6e9a394",
   "metadata": {},
   "outputs": [
    {
     "data": {
      "text/plain": [
       "-1"
      ]
     },
     "execution_count": 3,
     "metadata": {},
     "output_type": "execute_result"
    }
   ],
   "source": [
    "import cv2\n",
    "import numpy as np\n",
    "img = cv2.imread('lewis-hamilton-mercedes-1.jpg')\n",
    "img = cv2.resize(img, (0,0), fx = 0.7, fy = 0.7)\n",
    "#創造一個都是1的二維函數\n",
    "kernel = np.ones((3,3), np.uint8)\n",
    "\n",
    "#灰階的圖片\n",
    "gray = cv2.cvtColor(img, cv2.COLOR_BGR2GRAY)\n",
    "#高斯模糊 (img,(基數,基數), 標準差)\n",
    "blur = cv2.GaussianBlur(img, (11,11), 4)\n",
    "#描邊(邊緣最低門檻,最高門檻)\n",
    "canny = cv2.Canny(img, 150,200)\n",
    "#膨脹把線條變粗\n",
    "dilate = cv2.dilate(canny, kernel, iterations = 2)\n",
    "\n",
    "erode = cv2.erode(dilate, kernel,iterations = 2 )\n",
    "\n",
    "\n",
    "cv2.imshow('img',img)\n",
    "cv2.imshow('gray',gray)\n",
    "cv2.imshow('blur',blur)\n",
    "cv2.imshow('canny',canny)\n",
    "cv2.imshow('dilate',dilate)\n",
    "cv2.imshow('erode',erode)\n",
    "cv2.waitKey(0)"
   ]
  },
  {
   "cell_type": "code",
   "execution_count": null,
   "id": "02182dd1",
   "metadata": {},
   "outputs": [],
   "source": []
  },
  {
   "cell_type": "code",
   "execution_count": 1,
   "id": "a98d0dfe",
   "metadata": {},
   "outputs": [
    {
     "ename": "KeyboardInterrupt",
     "evalue": "",
     "output_type": "error",
     "traceback": [
      "\u001b[1;31m---------------------------------------------------------------------------\u001b[0m",
      "\u001b[1;31mKeyboardInterrupt\u001b[0m                         Traceback (most recent call last)",
      "Input \u001b[1;32mIn [1]\u001b[0m, in \u001b[0;36m<cell line: 6>\u001b[1;34m()\u001b[0m\n\u001b[0;32m      3\u001b[0m cap \u001b[38;5;241m=\u001b[39m cv2\u001b[38;5;241m.\u001b[39mVideoCapture(\u001b[38;5;241m0\u001b[39m)\n\u001b[0;32m      5\u001b[0m \u001b[38;5;28;01mwhile\u001b[39;00m \u001b[38;5;28;01mTrue\u001b[39;00m:\n\u001b[1;32m----> 6\u001b[0m     ret, frame \u001b[38;5;241m=\u001b[39m \u001b[43mcap\u001b[49m\u001b[38;5;241;43m.\u001b[39;49m\u001b[43mread\u001b[49m\u001b[43m(\u001b[49m\u001b[43m)\u001b[49m\n\u001b[0;32m      7\u001b[0m     \u001b[38;5;28;01mif\u001b[39;00m ret:\n\u001b[0;32m      8\u001b[0m         frame \u001b[38;5;241m=\u001b[39m cv2\u001b[38;5;241m.\u001b[39mCanny(frame, \u001b[38;5;241m150\u001b[39m,\u001b[38;5;241m140\u001b[39m)\n",
      "\u001b[1;31mKeyboardInterrupt\u001b[0m: "
     ]
    }
   ],
   "source": [
    "import cv2\n",
    "\n",
    "cap = cv2.VideoCapture(0)\n",
    "\n",
    "while True:\n",
    "    ret, frame = cap.read()\n",
    "    if ret:\n",
    "        frame = cv2.Canny(frame, 150,140)\n",
    "        cv2.imshow('sean',frame)\n",
    "    else:\n",
    "        break\n",
    "    if cv2.waitKey(10) == ord('q'):\n",
    "        break"
   ]
  }
 ],
 "metadata": {
  "kernelspec": {
   "display_name": "Python 3 (ipykernel)",
   "language": "python",
   "name": "python3"
  },
  "language_info": {
   "codemirror_mode": {
    "name": "ipython",
    "version": 3
   },
   "file_extension": ".py",
   "mimetype": "text/x-python",
   "name": "python",
   "nbconvert_exporter": "python",
   "pygments_lexer": "ipython3",
   "version": "3.9.12"
  }
 },
 "nbformat": 4,
 "nbformat_minor": 5
}
